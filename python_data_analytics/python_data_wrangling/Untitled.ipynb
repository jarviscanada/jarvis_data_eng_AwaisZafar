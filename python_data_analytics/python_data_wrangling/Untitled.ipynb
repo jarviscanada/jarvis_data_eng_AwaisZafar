{
 "cells": [
  {
   "cell_type": "code",
   "execution_count": null,
   "metadata": {},
   "outputs": [],
   "source": [
    "# Import modules \n",
    "import pandas as pd\n",
    "%matplotlib inline\n",
    "import matplotlib.pyplot as plt\n",
    "import numpy as np\n",
    "import psycopg2\n",
    "from sqlalchemy import create_engine\n",
    "\n",
    "!pip3 install psycopg2-binary\n",
    "\n",
    "alchemyEngine = create_engine('postgresql+psycopg2://test:@127.0.0,1', pool_recycle=3600);\n",
    "dbConnection=alchemyEngine.connect();\n",
    "dataframe=pd.read_sql(\"select * from retail\",dbConnection);"
   ]
  },
  {
   "cell_type": "code",
   "execution_count": null,
   "metadata": {},
   "outputs": [],
   "source": [
    "#Write your code in one or more cells (please remove this line from your notebook)\n",
    "\n",
    "engine_string = \"\"\n",
    "engine = \"\"\n",
    "retail_df = pd.read_sql(\"select * from retail\", dbConnection)\n",
    "retail_df.head()"
   ]
  },
  {
   "cell_type": "code",
   "execution_count": null,
   "metadata": {},
   "outputs": [],
   "source": []
  }
 ],
 "metadata": {
  "kernelspec": {
   "display_name": "Python 3",
   "language": "python",
   "name": "python3"
  },
  "language_info": {
   "codemirror_mode": {
    "name": "ipython",
    "version": 3
   },
   "file_extension": ".py",
   "mimetype": "text/x-python",
   "name": "python",
   "nbconvert_exporter": "python",
   "pygments_lexer": "ipython3",
   "version": "3.8.5"
  }
 },
 "nbformat": 4,
 "nbformat_minor": 4
}
